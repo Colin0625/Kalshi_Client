{
 "cells": [
  {
   "cell_type": "code",
   "execution_count": 1,
   "id": "475dc0e6",
   "metadata": {},
   "outputs": [
    {
     "name": "stdout",
     "output_type": "stream",
     "text": [
      "no\n"
     ]
    }
   ],
   "source": [
    "x = None\n",
    "if x:\n",
    "    print('yes')\n",
    "else:\n",
    "    print('no')"
   ]
  },
  {
   "cell_type": "code",
   "execution_count": 13,
   "id": "6e21cafe",
   "metadata": {},
   "outputs": [],
   "source": [
    "import math\n",
    "\n",
    "def calculate_fees(price, contracts):\n",
    "    return math.ceil((0.0175 * contracts * price * (1-price))*100)\n",
    "\n",
    "\n",
    "\n",
    "def calculate_spread_profit(bid_price, ask_price, contracts):\n",
    "    bid_fees = calculate_fees(bid_price, contracts)\n",
    "    ask_fees = calculate_fees(ask_price, contracts)\n",
    "    rev = ((ask_price - bid_price) * contracts)*100\n",
    "    print(rev)\n",
    "    print(bid_fees, ask_fees)\n",
    "    return rev - bid_fees - ask_fees"
   ]
  },
  {
   "cell_type": "code",
   "execution_count": null,
   "id": "6e38cf43",
   "metadata": {},
   "outputs": [
    {
     "name": "stdout",
     "output_type": "stream",
     "text": [
      "10.000000000000009\n",
      "5 5\n",
      "8.881784197001252e-15\n"
     ]
    }
   ],
   "source": [
    "print(calculate_spread_profit(0.50, 0.51, 11))"
   ]
  }
 ],
 "metadata": {
  "kernelspec": {
   "display_name": "Python 3",
   "language": "python",
   "name": "python3"
  },
  "language_info": {
   "codemirror_mode": {
    "name": "ipython",
    "version": 3
   },
   "file_extension": ".py",
   "mimetype": "text/x-python",
   "name": "python",
   "nbconvert_exporter": "python",
   "pygments_lexer": "ipython3",
   "version": "3.13.3"
  }
 },
 "nbformat": 4,
 "nbformat_minor": 5
}
